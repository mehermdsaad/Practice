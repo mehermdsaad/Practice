{
 "cells": [
  {
   "cell_type": "code",
   "execution_count": 6,
   "id": "4dd0ba7e",
   "metadata": {},
   "outputs": [
    {
     "name": "stdout",
     "output_type": "stream",
     "text": [
      "Enter expression in terms of 'x': 2*x**7-4*x**3+x-7\n",
      "Loop how many times? 7\n"
     ]
    },
    {
     "data": {
      "text/plain": [
       "[2*x**8 - 4*x**4 + x**2 - 7*x,\n",
       " 2*x**9 - 4*x**5 + x**3 - 7*x**2,\n",
       " 2*x**10 - 4*x**6 + x**4 - 7*x**3,\n",
       " 2*x**11 - 4*x**7 + x**5 - 7*x**4,\n",
       " 2*x**12 - 4*x**8 + x**6 - 7*x**5,\n",
       " 2*x**13 - 4*x**9 + x**7 - 7*x**6,\n",
       " 2*x**14 - 4*x**10 + x**8 - 7*x**7]"
      ]
     },
     "execution_count": 6,
     "metadata": {},
     "output_type": "execute_result"
    }
   ],
   "source": [
    "import functions_module as fn\n",
    "import sympy as sp\n",
    "\n",
    "input_exp = input(\"Enter expression in terms of 'x': \")\n",
    "input_int = int(input(\"Loop how many times? \"))\n",
    "\n",
    "fn.multiply_by_x(sp.sympify(input_exp), input_int)"
   ]
  },
  {
   "cell_type": "code",
   "execution_count": null,
   "id": "eb75c992",
   "metadata": {},
   "outputs": [],
   "source": []
  }
 ],
 "metadata": {
  "kernelspec": {
   "display_name": "Python 3 (ipykernel)",
   "language": "python",
   "name": "python3"
  },
  "language_info": {
   "codemirror_mode": {
    "name": "ipython",
    "version": 3
   },
   "file_extension": ".py",
   "mimetype": "text/x-python",
   "name": "python",
   "nbconvert_exporter": "python",
   "pygments_lexer": "ipython3",
   "version": "3.10.0"
  }
 },
 "nbformat": 4,
 "nbformat_minor": 5
}
