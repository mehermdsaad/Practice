{
 "cells": [
  {
   "cell_type": "code",
   "execution_count": 3,
   "id": "f96ba3f2",
   "metadata": {},
   "outputs": [],
   "source": [
    "import sympy as sp\n",
    "\n",
    "sp.init_printing()\n",
    "x, y = sp.symbols('x y')"
   ]
  },
  {
   "cell_type": "code",
   "execution_count": 4,
   "id": "5f5beada",
   "metadata": {},
   "outputs": [],
   "source": [
    "def find_conic_from_pts(pts):\n",
    "    '''Function that takes a list of 5 points and returns the conic equation\n",
    "    that corresponds to those points\n",
    "\n",
    "    Returns\n",
    "    -------\n",
    "    Sympy equation of the conic\n",
    "\n",
    "    '''\n",
    "\n",
    "    # We assume the equation to be A*x**2+B*y**2+C*x*y+D*x+E*y+1=0\n",
    "\n",
    "    d = sp.Matrix([[x**2,x*y,y**2,x,y,1]])\n",
    "\n",
    "    for i, pt in enumerate(pts):\n",
    "        p_x, p_y = pt[0], pt[1]\n",
    "        d = d.row_insert(i+1, sp.Matrix([[p_x**2, p_x * p_y, p_y**2, p_x, p_y,1]]))\n",
    "    \n",
    "    return sp.Eq(d.det(),0)"
   ]
  },
  {
   "cell_type": "code",
   "execution_count": 5,
   "id": "ebfa7633",
   "metadata": {},
   "outputs": [],
   "source": [
    "# Some set of points\n",
    "pts = [sp.Point(0, 1), sp.Point(0,0), sp.Point(\n",
    "    3/4, 3/4), sp.Point(3/4, 1/4), sp.Point(1, 1/2)]"
   ]
  },
  {
   "cell_type": "code",
   "execution_count": 6,
   "id": "0ea77444",
   "metadata": {},
   "outputs": [
    {
     "name": "stdout",
     "output_type": "stream",
     "text": [
      "Eq(9*x/512 + 9*y**2/128 - 9*y/128, 0)\n"
     ]
    }
   ],
   "source": [
    "print(find_conic_from_pts(pts))"
   ]
  },
  {
   "cell_type": "code",
   "execution_count": null,
   "id": "b32bbe22",
   "metadata": {},
   "outputs": [],
   "source": []
  }
 ],
 "metadata": {
  "kernelspec": {
   "display_name": "Python 3 (ipykernel)",
   "language": "python",
   "name": "python3"
  },
  "language_info": {
   "codemirror_mode": {
    "name": "ipython",
    "version": 3
   },
   "file_extension": ".py",
   "mimetype": "text/x-python",
   "name": "python",
   "nbconvert_exporter": "python",
   "pygments_lexer": "ipython3",
   "version": "3.10.0"
  }
 },
 "nbformat": 4,
 "nbformat_minor": 5
}
